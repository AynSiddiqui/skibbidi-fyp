{
 "cells": [
  {
   "cell_type": "code",
   "execution_count": 1,
   "metadata": {},
   "outputs": [],
   "source": [
    "%matplotlib inline \n",
    "import matplotlib.pyplot as plt\n",
    "import matplotlib.ticker as mtick\n",
    "import seaborn as sns\n",
    "sns.set_color_codes()\n",
    "import pandas as pd\n",
    "import numpy as np\n",
    "import os\n",
    "import xml.etree.cElementTree as ET\n",
    "from matplotlib.ticker import FuncFormatter"
   ]
  },
  {
   "cell_type": "markdown",
   "metadata": {},
   "source": [
    "## plot training curves in small grid env"
   ]
  },
  {
   "cell_type": "code",
   "execution_count": 2,
   "metadata": {},
   "outputs": [
    {
     "name": "stderr",
     "output_type": "stream",
     "text": [
      "<>:1: SyntaxWarning: invalid escape sequence '\\F'\n",
      "<>:2: SyntaxWarning: invalid escape sequence '\\p'\n",
      "<>:1: SyntaxWarning: invalid escape sequence '\\F'\n",
      "<>:2: SyntaxWarning: invalid escape sequence '\\p'\n",
      "C:\\Users\\rskal\\AppData\\Local\\Temp\\ipykernel_16984\\3547110333.py:1: SyntaxWarning: invalid escape sequence '\\F'\n",
      "  base_dir = 'D:\\FYP\\deeprl_signal_control_ma2c_ia2c\\worli'\n",
      "C:\\Users\\rskal\\AppData\\Local\\Temp\\ipykernel_16984\\3547110333.py:2: SyntaxWarning: invalid escape sequence '\\p'\n",
      "  plot_dir = base_dir + '\\plots'\n"
     ]
    }
   ],
   "source": [
    "base_dir = 'D:\\FYP\\deeprl_signal_control_ma2c_ia2c\\worli'\n",
    "plot_dir = base_dir + '\\plots'\n",
    "\n",
    "if not os.path.exists(plot_dir):\n",
    "    os.mkdir(plot_dir)\n",
    "\n",
    "color_cycle = sns.color_palette()\n",
    "\n",
    "COLORS = {'ma2c': color_cycle[0], 'ia2c': color_cycle[1], 'iqll': color_cycle[2], \n",
    "          'iqld': color_cycle[3], 'greedy':color_cycle[4]}\n",
    "\n",
    "TRAIN_STEP = 1e5"
   ]
  },
  {
   "cell_type": "code",
   "execution_count": 26,
   "metadata": {},
   "outputs": [
    {
     "name": "stdout",
     "output_type": "stream",
     "text": [
      "data, data\n",
      "eva_data, eva\n",
      "eva_log, eva\n",
      "ia2c, ia2c\n",
      "ma2c, ma2c\n",
      "plots, plots\n"
     ]
    }
   ],
   "source": [
    "window = 10\n",
    "\n",
    "def plot_train_curve(scenario='worli'):\n",
    "    cur_dir = base_dir\n",
    "\n",
    "    names = ['ma2c', 'ia2c']\n",
    "    labels = ['MA2C', 'IA2C']\n",
    "\n",
    "    dfs = {}\n",
    "\n",
    "    for file in os.listdir(cur_dir):\n",
    "        name = file.split('_')[0]\n",
    "        print(file + ', ' + name)\n",
    "        if (name in names) and (name != 'greedy'):\n",
    "            df = pd.read_csv(cur_dir + '\\\\' + file + '\\\\data\\\\train_reward.csv')\n",
    "            dfs[name] = df[df.test_id == -1]\n",
    "\n",
    "    plt.figure(figsize=(9,6))\n",
    "\n",
    "    ymin = []\n",
    "    ymax = []\n",
    "    \n",
    "    for i, name in enumerate(names):\n",
    "        if name == 'greedy':\n",
    "            plt.axhline(y=-972.28, color=COLORS[name], linewidth=3, label=labels[i])\n",
    "        else:\n",
    "            df = dfs[name]\n",
    "            x_mean = df.avg_reward.rolling(window, min_periods=1).mean().values\n",
    "            x_std = df.avg_reward.rolling(window, min_periods=1).std().values\n",
    "            plt.plot(df.step.values, x_mean, color=COLORS[name], linewidth=3, label=labels[i])\n",
    "            ymin.append(np.nanmin(x_mean - 0.5 * x_std))\n",
    "            ymax.append(np.nanmax(x_mean + 0.5 * x_std))\n",
    "            plt.fill_between(df.step.values, x_mean - x_std, x_mean + x_std, facecolor=COLORS[name], edgecolor='none', alpha=0.1)\n",
    "\n",
    "    ymin = min(ymin)\n",
    "    ymax = max(ymax)\n",
    "\n",
    "    plt.xlim([0, TRAIN_STEP])\n",
    "\n",
    "    if scenario == 'worli':\n",
    "        plt.ylim([-700, -300])\n",
    "    else:\n",
    "        plt.ylim([-225, -100])\n",
    "\n",
    "    # formatter = FuncFormatter(millions)\n",
    "    # plt.gca().xaxis.set_major_formatter(formatter)\n",
    "    plt.xticks(fontsize=15)\n",
    "    plt.yticks(fontsize=15)\n",
    "    plt.xlabel('Training step', fontsize=18)\n",
    "    plt.ylabel('Average episode reward', fontsize=18)\n",
    "    plt.legend(loc='upper left', fontsize=18)\n",
    "    plt.tight_layout()\n",
    "    plt.savefig(plot_dir + ('/%s_train.pdf' % scenario))\n",
    "    plt.close()\n",
    "\n",
    "plot_train_curve()"
   ]
  },
  {
   "cell_type": "markdown",
   "metadata": {},
   "source": [
    "## plot training curves in large grid env"
   ]
  },
  {
   "cell_type": "code",
   "execution_count": 128,
   "metadata": {},
   "outputs": [
    {
     "name": "stdout",
     "output_type": "stream",
     "text": [
      "iqll_real_train_reward.csv, iqll\n",
      "ia2c_train_reward.csv, ia2c\n",
      "ma2c_real_train_reward.csv, ma2c\n",
      "iqld_train_reward.csv, iqld\n"
     ]
    }
   ],
   "source": [
    "plot_train_curve(scenario='real_net')"
   ]
  }
 ],
 "metadata": {
  "kernelspec": {
   "display_name": "base",
   "language": "python",
   "name": "python3"
  },
  "language_info": {
   "codemirror_mode": {
    "name": "ipython",
    "version": 3
   },
   "file_extension": ".py",
   "mimetype": "text/x-python",
   "name": "python",
   "nbconvert_exporter": "python",
   "pygments_lexer": "ipython3",
   "version": "3.12.4"
  }
 },
 "nbformat": 4,
 "nbformat_minor": 2
}
